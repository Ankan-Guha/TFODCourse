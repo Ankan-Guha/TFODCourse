{
 "cells": [
  {
   "cell_type": "markdown",
   "metadata": {},
   "source": [
    "# 1. Import Dependencies"
   ]
  },
  {
   "cell_type": "code",
   "execution_count": 2,
   "metadata": {},
   "outputs": [
    {
     "name": "stdout",
     "output_type": "stream",
     "text": [
      "Requirement already satisfied: opencv-python in c:\\sharpobject\\tfodcourse\\tfod\\lib\\site-packages (4.8.1.78)\n",
      "Requirement already satisfied: numpy>=1.21.2 in c:\\sharpobject\\tfodcourse\\tfod\\lib\\site-packages (from opencv-python) (1.26.2)\n"
     ]
    }
   ],
   "source": [
    "!pip install opencv-python\n"
   ]
  },
  {
   "cell_type": "code",
   "execution_count": 3,
   "metadata": {},
   "outputs": [],
   "source": [
    "# Import opencv\n",
    "import cv2 \n",
    "\n",
    "# Import uuid\n",
    "import uuid\n",
    "\n",
    "# Import Operating System\n",
    "import os\n",
    "\n",
    "# Import time\n",
    "import time"
   ]
  },
  {
   "cell_type": "markdown",
   "metadata": {},
   "source": [
    "# 2. Define Images to Collect"
   ]
  },
  {
   "cell_type": "code",
   "execution_count": 14,
   "metadata": {},
   "outputs": [],
   "source": [
    "labels = ['knife','nothing']\n",
    "number_imgs = 5\n"
   ]
  },
  {
   "cell_type": "markdown",
   "metadata": {},
   "source": [
    "# 3. Setup Folders "
   ]
  },
  {
   "cell_type": "code",
   "execution_count": 15,
   "metadata": {},
   "outputs": [],
   "source": [
    "IMAGES_PATH = os.path.join('Tensorflow', 'workspace', 'images', 'collectedimages')"
   ]
  },
  {
   "cell_type": "code",
   "execution_count": 16,
   "metadata": {},
   "outputs": [],
   "source": [
    "if not os.path.exists(IMAGES_PATH):\n",
    "    if os.name == 'posix':\n",
    "        !mkdir -p {IMAGES_PATH}\n",
    "    if os.name == 'nt':\n",
    "         !mkdir {IMAGES_PATH}\n",
    "for label in labels:\n",
    "    path = os.path.join(IMAGES_PATH, label)\n",
    "    if not os.path.exists(path):\n",
    "        !mkdir {path}\n",
    "        "
   ]
  },
  {
   "cell_type": "markdown",
   "metadata": {},
   "source": [
    "# 4. Capture Images"
   ]
  },
  {
   "cell_type": "code",
   "execution_count": null,
   "metadata": {},
   "outputs": [],
   "source": []
  },
  {
   "cell_type": "markdown",
   "metadata": {},
   "source": [
    "# 5. Image Labelling"
   ]
  },
  {
   "cell_type": "code",
   "execution_count": 1,
   "metadata": {},
   "outputs": [
    {
     "name": "stdout",
     "output_type": "stream",
     "text": [
      "Requirement already satisfied: pyqt5 in c:\\sharpobject\\tfodcourse\\tfod\\lib\\site-packages (5.15.10)\n",
      "Requirement already satisfied: lxml in c:\\sharpobject\\tfodcourse\\tfod\\lib\\site-packages (4.9.4)\n",
      "Requirement already satisfied: PyQt5-sip<13,>=12.13 in c:\\sharpobject\\tfodcourse\\tfod\\lib\\site-packages (from pyqt5) (12.13.0)\n",
      "Requirement already satisfied: PyQt5-Qt5>=5.15.2 in c:\\sharpobject\\tfodcourse\\tfod\\lib\\site-packages (from pyqt5) (5.15.2)\n"
     ]
    }
   ],
   "source": [
    "!pip install --upgrade pyqt5 lxml"
   ]
  },
  {
   "cell_type": "code",
   "execution_count": 4,
   "metadata": {},
   "outputs": [],
   "source": [
    "LABELIMG_PATH = os.path.join('Tensorflow', 'labelimg')"
   ]
  },
  {
   "cell_type": "code",
   "execution_count": 5,
   "metadata": {},
   "outputs": [],
   "source": [
    "if not os.path.exists(LABELIMG_PATH):\n",
    "    !mkdir {LABELIMG_PATH}\n",
    "    !git clone https://github.com/tzutalin/labelImg {LABELIMG_PATH}"
   ]
  },
  {
   "cell_type": "code",
   "execution_count": 6,
   "metadata": {},
   "outputs": [],
   "source": [
    "if os.name == 'posix':\n",
    "    !make qt5py3\n",
    "if os.name =='nt':\n",
    "    !cd {LABELIMG_PATH} && pyrcc5 -o libs/resources.py resources.qrc"
   ]
  },
  {
   "cell_type": "code",
   "execution_count": 7,
   "metadata": {},
   "outputs": [
    {
     "name": "stdout",
     "output_type": "stream",
     "text": [
      "Cancel creation.\n",
      "Image:C:\\SharpObject\\TFODCourse\\Tensorflow\\workspace\\images\\collectedimages\\knife\\knife5.jpg -> Annotation:C:/SharpObject/TFODCourse/Tensorflow/workspace/images/collectedimages/knife\\knife5.xml\n",
      "Image:C:\\SharpObject\\TFODCourse\\Tensorflow\\workspace\\images\\collectedimages\\knife\\knife1.png -> Annotation:C:/SharpObject/TFODCourse/Tensorflow/workspace/images/collectedimages/knife\\knife1.xml\n",
      "Cancel creation.\n",
      "Image:C:\\SharpObject\\TFODCourse\\Tensorflow\\workspace\\images\\collectedimages\\knife\\knife2.jpg -> Annotation:C:/SharpObject/TFODCourse/Tensorflow/workspace/images/collectedimages/knife\\knife2.xml\n",
      "Cancel creation.\n",
      "Cancel creation.\n",
      "Image:C:\\SharpObject\\TFODCourse\\Tensorflow\\workspace\\images\\collectedimages\\knife\\knife3.jpg -> Annotation:C:/SharpObject/TFODCourse/Tensorflow/workspace/images/collectedimages/knife\\knife3.xml\n",
      "Cancel creation.\n",
      "Cancel creation.\n",
      "Cancel creation.\n",
      "Image:C:\\SharpObject\\TFODCourse\\Tensorflow\\workspace\\images\\collectedimages\\knife\\knife4.jpg -> Annotation:C:/SharpObject/TFODCourse/Tensorflow/workspace/images/collectedimages/knife\\knife4.xml\n",
      "Image:C:\\SharpObject\\TFODCourse\\Tensorflow\\workspace\\images\\collectedimages\\nothing\\nothing1.jpg -> Annotation:C:/SharpObject/TFODCourse/Tensorflow/workspace/images/collectedimages/nothing\\nothing1.xml\n",
      "Image:C:\\SharpObject\\TFODCourse\\Tensorflow\\workspace\\images\\collectedimages\\nothing\\nothing2.jpg -> Annotation:C:/SharpObject/TFODCourse/Tensorflow/workspace/images/collectedimages/nothing\\nothing2.xml\n",
      "Image:C:\\SharpObject\\TFODCourse\\Tensorflow\\workspace\\images\\collectedimages\\nothing\\nothing2.jpg -> Annotation:C:/SharpObject/TFODCourse/Tensorflow/workspace/images/collectedimages/nothing\\nothing2.xml\n",
      "Image:C:\\SharpObject\\TFODCourse\\Tensorflow\\workspace\\images\\collectedimages\\nothing\\nothing3.jpg -> Annotation:C:/SharpObject/TFODCourse/Tensorflow/workspace/images/collectedimages/nothing\\nothing3.xml\n",
      "Image:C:\\SharpObject\\TFODCourse\\Tensorflow\\workspace\\images\\collectedimages\\nothing\\nothing4.jpg -> Annotation:C:/SharpObject/TFODCourse/Tensorflow/workspace/images/collectedimages/nothing\\nothing4.xml\n",
      "Image:C:\\SharpObject\\TFODCourse\\Tensorflow\\workspace\\images\\collectedimages\\nothing\\nothing4.jpg -> Annotation:C:/SharpObject/TFODCourse/Tensorflow/workspace/images/collectedimages/nothing\\nothing4.xml\n",
      "Image:C:\\SharpObject\\TFODCourse\\Tensorflow\\workspace\\images\\collectedimages\\nothing\\nothing5.jpg -> Annotation:C:/SharpObject/TFODCourse/Tensorflow/workspace/images/collectedimages/nothing\\nothing5.xml\n"
     ]
    }
   ],
   "source": [
    "!cd {LABELIMG_PATH} && python labelImg.py"
   ]
  },
  {
   "cell_type": "markdown",
   "metadata": {},
   "source": [
    "# 6. Move them into a Training and Testing Partition"
   ]
  },
  {
   "cell_type": "markdown",
   "metadata": {},
   "source": [
    "# OPTIONAL - 7. Compress them for Colab Training"
   ]
  },
  {
   "cell_type": "code",
   "execution_count": 20,
   "metadata": {},
   "outputs": [],
   "source": [
    "TRAIN_PATH = os.path.join('Tensorflow', 'workspace', 'images', 'train')\n",
    "TEST_PATH = os.path.join('Tensorflow', 'workspace', 'images', 'test')\n",
    "ARCHIVE_PATH = os.path.join('Tensorflow', 'workspace', 'images', 'archive.tar.gz')"
   ]
  },
  {
   "cell_type": "code",
   "execution_count": 21,
   "metadata": {},
   "outputs": [],
   "source": [
    "!tar -czf {ARCHIVE_PATH} {TRAIN_PATH} {TEST_PATH}"
   ]
  },
  {
   "cell_type": "code",
   "execution_count": null,
   "metadata": {},
   "outputs": [],
   "source": []
  }
 ],
 "metadata": {
  "kernelspec": {
   "display_name": "tfodj",
   "language": "python",
   "name": "tfodj"
  },
  "language_info": {
   "codemirror_mode": {
    "name": "ipython",
    "version": 3
   },
   "file_extension": ".py",
   "mimetype": "text/x-python",
   "name": "python",
   "nbconvert_exporter": "python",
   "pygments_lexer": "ipython3",
   "version": "3.12.1"
  }
 },
 "nbformat": 4,
 "nbformat_minor": 4
}
